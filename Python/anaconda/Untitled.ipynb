{
 "cells": [
  {
   "cell_type": "code",
   "execution_count": 112,
   "metadata": {},
   "outputs": [],
   "source": [
    "import requests\n",
    "from bs4 import BeautifulSoup\n",
    "import pandas as pd\n",
    "import time"
   ]
  },
  {
   "cell_type": "code",
   "execution_count": 113,
   "metadata": {},
   "outputs": [],
   "source": [
    "la_prensa_url = \"http://www.laprensa.com.bo\"\n",
    "categories_links = []\n",
    "i = 0\n",
    "actual_category = ''\n",
    "news_links = []"
   ]
  },
  {
   "cell_type": "code",
   "execution_count": 115,
   "metadata": {},
   "outputs": [],
   "source": [
    "la_prensa = requests.get(la_prensa_url)"
   ]
  },
  {
   "cell_type": "code",
   "execution_count": 116,
   "metadata": {},
   "outputs": [],
   "source": [
    "la_prensa_bd = BeautifulSoup(la_prensa.text, 'lxml')"
   ]
  },
  {
   "cell_type": "code",
   "execution_count": 117,
   "metadata": {},
   "outputs": [],
   "source": [
    "categories = la_prensa_bd.find_all('li', attrs = {'class':'menu-item menu-item--expanded'})"
   ]
  },
  {
   "cell_type": "code",
   "execution_count": 118,
   "metadata": {},
   "outputs": [
    {
     "data": {
      "text/plain": [
       "'/actualidad'"
      ]
     },
     "execution_count": 118,
     "metadata": {},
     "output_type": "execute_result"
    }
   ],
   "source": [
    "categories[0].a.get('href')"
   ]
  },
  {
   "cell_type": "code",
   "execution_count": 119,
   "metadata": {},
   "outputs": [],
   "source": [
    "for category in categories:\n",
    "    categories_links.append(category.a.get('href'))"
   ]
  },
  {
   "cell_type": "code",
   "execution_count": 120,
   "metadata": {},
   "outputs": [],
   "source": [
    "for link in categories_links:\n",
    "    category_to_scraping = categories_links[i]\n",
    "    actual_category = la_prensa_url + category_to_scraping\n",
    "    actual_category_scrapy = requests.get(actual_category)    \n",
    "    actual_category_scrapy_bd = BeautifulSoup(actual_category_scrapy.text, 'lxml')\n",
    "    news = actual_category_scrapy_bd.find_all('div', attrs = {'class':'post-content'})\n",
    "    time.sleep(30)\n",
    "    for new in news:\n",
    "        news_links.append(new.a.get('href'))"
   ]
  },
  {
   "cell_type": "code",
   "execution_count": 122,
   "metadata": {},
   "outputs": [
    {
     "data": {
      "text/plain": [
       "135"
      ]
     },
     "execution_count": 122,
     "metadata": {},
     "output_type": "execute_result"
    }
   ],
   "source": [
    "for new_link in news_links:\n",
    "    actual_new_"
   ]
  },
  {
   "cell_type": "code",
   "execution_count": null,
   "metadata": {},
   "outputs": [],
   "source": []
  }
 ],
 "metadata": {
  "kernelspec": {
   "display_name": "Python 3",
   "language": "python",
   "name": "python3"
  },
  "language_info": {
   "codemirror_mode": {
    "name": "ipython",
    "version": 3
   },
   "file_extension": ".py",
   "mimetype": "text/x-python",
   "name": "python",
   "nbconvert_exporter": "python",
   "pygments_lexer": "ipython3",
   "version": "3.7.6"
  }
 },
 "nbformat": 4,
 "nbformat_minor": 4
}
