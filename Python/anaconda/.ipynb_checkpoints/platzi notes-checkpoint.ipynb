{
 "cells": [
  {
   "cell_type": "code",
   "execution_count": 67,
   "metadata": {},
   "outputs": [],
   "source": [
    "import requests\n",
    "from bs4 import BeautifulSoup\n",
    "import pandas as pd\n",
    "import time"
   ]
  },
  {
   "cell_type": "code",
   "execution_count": 68,
   "metadata": {},
   "outputs": [],
   "source": [
    "economista_url = \"https://www.eleconomista.com.mx/\"\n",
    "financiero_url = \"https://www.elfinanciero.com.mx/\"\n",
    "miled_url = \"https://miled.com/\""
   ]
  },
  {
   "cell_type": "code",
   "execution_count": 69,
   "metadata": {},
   "outputs": [],
   "source": [
    "miled = requests.get(miled_url)"
   ]
  },
  {
   "cell_type": "code",
   "execution_count": 70,
   "metadata": {},
   "outputs": [],
   "source": [
    "miled_bd = BeautifulSoup(miled.text, 'lxml')"
   ]
  },
  {
   "cell_type": "code",
   "execution_count": 71,
   "metadata": {},
   "outputs": [],
   "source": [
    "tecnologia = miled_bd.find('li', attrs = {'class':'menu-item menu-item-type-taxonomy menu-item-object-category menu-item-1753'})"
   ]
  },
  {
   "cell_type": "code",
   "execution_count": 72,
   "metadata": {},
   "outputs": [],
   "source": [
    "url_tecnologia = tecnologia.a.get('href')"
   ]
  },
  {
   "cell_type": "code",
   "execution_count": 73,
   "metadata": {},
   "outputs": [],
   "source": [
    "miled_tecnologia = requests.get(url_tecnologia)"
   ]
  },
  {
   "cell_type": "code",
   "execution_count": 74,
   "metadata": {},
   "outputs": [],
   "source": [
    "miled_tecnologia_bd = BeautifulSoup(miled_tecnologia.text, 'lxml')"
   ]
  },
  {
   "cell_type": "code",
   "execution_count": 80,
   "metadata": {},
   "outputs": [],
   "source": [
    "tecno_news = miled_tecnologia_bd.find_all('div', attrs = {'class':'post-thumbnail'})"
   ]
  },
  {
   "cell_type": "code",
   "execution_count": 91,
   "metadata": {},
   "outputs": [],
   "source": [
    "tecno_news_urls = []"
   ]
  },
  {
   "cell_type": "code",
   "execution_count": 92,
   "metadata": {},
   "outputs": [],
   "source": [
    "for new in tecno_news:\n",
    "    actual_new_link = new.a.get('href')\n",
    "    tecno_news_urls.append(actual_new_link)"
   ]
  },
  {
   "cell_type": "code",
   "execution_count": 93,
   "metadata": {},
   "outputs": [
    {
     "data": {
      "text/plain": [
       "['https://miled.com/2020/11/04/crean-reloj-epigenetico-que-predice-la-evolucion-de-pacientes-con-cancer/',\n",
       " 'https://miled.com/2020/11/02/cientificos-descubren-un-nuevo-mineral-en-un-meteorito-lunar/',\n",
       " 'https://miled.com/2020/10/29/nasa-y-spacex-anuncian-nueva-fecha-para-su-primera-mision-a-la-eei/',\n",
       " 'https://miled.com/2020/10/28/descubren-un-gigantesco-coral-mas-alto-que-el-empire-state-de-nueva-york/',\n",
       " 'https://miled.com/2020/10/26/nasa-elige-a-nokia-para-construir-red-de-telefonia-movil-en-la-luna/',\n",
       " 'https://miled.com/2020/10/23/sonda-de-la-nasa-entra-en-contacto-con-bennu-el-asteroide-de-la-muerte/',\n",
       " 'https://miled.com/2020/10/22/la-soyuz-ms-16-regresa-con-exito-a-la-tierra-a-tres-cosmonautas-de-la-estacion-espacial-internacional/',\n",
       " 'https://miled.com/2020/10/22/la-nave-tripulada-soyuz-ms-16-regresa-con-exito-a-la-tierra/',\n",
       " 'https://miled.com/2020/10/19/todo-lo-que-debes-saber-del-bitcoin-la-mayor-criptomoneda/',\n",
       " 'https://miled.com/2020/10/19/nokia-construira-red-de-telefonia-movil-en-la-luna/']"
      ]
     },
     "execution_count": 93,
     "metadata": {},
     "output_type": "execute_result"
    }
   ],
   "source": [
    "tecno_news_urls"
   ]
  },
  {
   "cell_type": "code",
   "execution_count": 95,
   "metadata": {},
   "outputs": [],
   "source": [
    "tecno_link = tecno_news_urls[0]"
   ]
  },
  {
   "cell_type": "code",
   "execution_count": 96,
   "metadata": {},
   "outputs": [
    {
     "data": {
      "text/plain": [
       "<Response [200]>"
      ]
     },
     "execution_count": 96,
     "metadata": {},
     "output_type": "execute_result"
    }
   ],
   "source": [
    "new = requests.get(tecno_link)"
   ]
  },
  {
   "cell_type": "code",
   "execution_count": 99,
   "metadata": {},
   "outputs": [],
   "source": [
    "new_db =  BeautifulSoup(new.text, 'lxml')"
   ]
  },
  {
   "cell_type": "code",
   "execution_count": 117,
   "metadata": {},
   "outputs": [],
   "source": [
    "content_new = new_db.find('div', attrs ={'class':'s-post-content s-post-small-el bb-mb-el'})"
   ]
  },
  {
   "cell_type": "code",
   "execution_count": 125,
   "metadata": {},
   "outputs": [],
   "source": [
    "title_new = new_db.find('h1',attrs = {'class':'entry-title s-post-title bb-mb-el'})"
   ]
  },
  {
   "cell_type": "code",
   "execution_count": 128,
   "metadata": {},
   "outputs": [
    {
     "data": {
      "text/plain": [
       "['Crean reloj epigenético que predice la evolución de pacientes con cáncer']"
      ]
     },
     "execution_count": 128,
     "metadata": {},
     "output_type": "execute_result"
    }
   ],
   "source": [
    "title_new.contents"
   ]
  },
  {
   "cell_type": "code",
   "execution_count": null,
   "metadata": {},
   "outputs": [],
   "source": []
  }
 ],
 "metadata": {
  "kernelspec": {
   "display_name": "Python 3",
   "language": "python",
   "name": "python3"
  },
  "language_info": {
   "codemirror_mode": {
    "name": "ipython",
    "version": 3
   },
   "file_extension": ".py",
   "mimetype": "text/x-python",
   "name": "python",
   "nbconvert_exporter": "python",
   "pygments_lexer": "ipython3",
   "version": "3.7.6"
  }
 },
 "nbformat": 4,
 "nbformat_minor": 4
}
